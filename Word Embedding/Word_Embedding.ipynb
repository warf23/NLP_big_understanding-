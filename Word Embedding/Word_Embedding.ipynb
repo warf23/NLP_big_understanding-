{
 "cells": [
  {
   "cell_type": "markdown",
   "metadata": {},
   "source": [
    "# What's Word Embedding? "
   ]
  },
  {
   "cell_type": "markdown",
   "metadata": {},
   "source": [
    "* A word embedding is a learned representation for text where words that have the same meaning have a similar representation. \n",
    "* Word embeddings are a way to turn words into numbers so that computers can understand them. \n",
    "* Instead of using a long list of zeros and ones to represent each word, word embeddings use shorter, dense vectors. \n",
    "* These vectors are created in such a way that words with similar meanings have similar vectors. \n",
    "* For example, the words \"cat\" and \"dog\" might have vectors that are close to each other because they are both animals. \n",
    "* This helps computers understand the context and meaning of words better in various language tasks."
   ]
  },
  {
   "cell_type": "markdown",
   "metadata": {},
   "source": [
    "## Word embeddings¶\n",
    "Word embeddings give us a way to use an efficient, dense representation in which similar words have a similar encoding. Importantly, we do not have to specify this encoding by hand. An embedding is a dense vector of floating point values (the length of the vector is a parameter you specify). Instead of specifying the values for the embedding manually, they are trainable parameters (weights learned by the model during training, in the same way a model learns weights for a dense layer). It is common to see word embeddings that are 8-dimensional (for small datasets), up to 1024-dimensions when working with large datasets. A higher dimensional embedding can capture fine-grained relationships between words, but takes more data to learn.\n",
    "\n",
    "Diagram of an embeddingAbove is a diagram for a word embedding. Each word is represented as a 4-dimensional vector of floating point values. Another way to think of an embedding is as \"lookup table\". After these weights have been learned, we can encode each word by looking up the dense vector it corresponds to in the table."
   ]
  },
  {
   "cell_type": "code",
   "execution_count": null,
   "metadata": {},
   "outputs": [],
   "source": [
    "https://projector.tensorflow.org/"
   ]
  },
  {
   "cell_type": "code",
   "execution_count": 1,
   "metadata": {},
   "outputs": [],
   "source": [
    "##tensorflow >2.0\n",
    "from tensorflow.keras.preprocessing.text import one_hot"
   ]
  },
  {
   "cell_type": "code",
   "execution_count": 24,
   "metadata": {},
   "outputs": [],
   "source": [
    "### sentences\n",
    "sent=[  'the glass of milk',\n",
    "     'the glass of juice',\n",
    "     'the cup of tea',\n",
    "    'I am a good boy',\n",
    "     'I am a good developer',\n",
    "     'understand the meaning of words developer ',\n",
    "     'your videos are good',]"
   ]
  },
  {
   "cell_type": "markdown",
   "metadata": {},
   "source": [
    "### One Hot Representation"
   ]
  },
  {
   "cell_type": "code",
   "execution_count": 25,
   "metadata": {},
   "outputs": [
    {
     "name": "stdout",
     "output_type": "stream",
     "text": [
      "[[7784, 6710, 9927, 6937], [7784, 6710, 9927, 3487], [7784, 397, 9927, 6675], [9483, 8470, 8695, 961, 1207], [9483, 8470, 8695, 961, 1676], [3662, 7784, 590, 9927, 108, 1676], [4748, 3990, 1847, 961]]\n"
     ]
    }
   ],
   "source": [
    "# Vocabulary size \n",
    "voc_size=10000\n",
    "# give the exact size of the vocabulary \n",
    "onehot_repr=[one_hot(words,voc_size)for words in sent]\n",
    "print(onehot_repr)"
   ]
  },
  {
   "cell_type": "code",
   "execution_count": 26,
   "metadata": {},
   "outputs": [
    {
     "data": {
      "text/plain": [
       "[7784, 6710, 9927, 6937]"
      ]
     },
     "execution_count": 26,
     "metadata": {},
     "output_type": "execute_result"
    }
   ],
   "source": [
    "one_hot('the glass of milk',voc_size)"
   ]
  },
  {
   "cell_type": "markdown",
   "metadata": {},
   "source": [
    "### Word Embedding Represntation"
   ]
  },
  {
   "cell_type": "code",
   "execution_count": 27,
   "metadata": {},
   "outputs": [],
   "source": [
    "# Import the Embedding layer from Keras, which is used to create word embeddings\n",
    "from tensorflow.keras.layers import Embedding \n",
    "\n",
    "# Import the pad_sequences utility, which pads sequences to the same length\n",
    "from tensorflow.keras.preprocessing.sequence import pad_sequences \n",
    "\n",
    "# Import the Sequential model, which is a linear stack of layers\n",
    "from tensorflow.keras.models import Sequential\n",
    "\n",
    "# Import numpy\n",
    "import numpy as np\n"
   ]
  },
  {
   "cell_type": "code",
   "execution_count": 33,
   "metadata": {},
   "outputs": [
    {
     "name": "stdout",
     "output_type": "stream",
     "text": [
      "[[   0    0    0    0 7784 6710 9927 6937]\n",
      " [   0    0    0    0 7784 6710 9927 3487]\n",
      " [   0    0    0    0 7784  397 9927 6675]\n",
      " [   0    0    0 9483 8470 8695  961 1207]\n",
      " [   0    0    0 9483 8470 8695  961 1676]\n",
      " [   0    0 3662 7784  590 9927  108 1676]\n",
      " [   0    0    0    0 4748 3990 1847  961]]\n"
     ]
    }
   ],
   "source": [
    "# sentence length exact size max length \n",
    "sent_length=8\n",
    "embedded_docs=pad_sequences(onehot_repr,padding='pre',maxlen=sent_length)\n",
    "print(embedded_docs)"
   ]
  },
  {
   "cell_type": "code",
   "execution_count": 36,
   "metadata": {},
   "outputs": [],
   "source": [
    "dim=10"
   ]
  },
  {
   "cell_type": "code",
   "execution_count": 41,
   "metadata": {},
   "outputs": [],
   "source": [
    "model = Sequential()\n",
    "model.add(Embedding(voc_size,dim,input_length=sent_length))\n",
    "model.compile('adam','mse')"
   ]
  },
  {
   "cell_type": "code",
   "execution_count": 42,
   "metadata": {},
   "outputs": [
    {
     "data": {
      "text/html": [
       "<pre style=\"white-space:pre;overflow-x:auto;line-height:normal;font-family:Menlo,'DejaVu Sans Mono',consolas,'Courier New',monospace\"><span style=\"font-weight: bold\">Model: \"sequential_3\"</span>\n",
       "</pre>\n"
      ],
      "text/plain": [
       "\u001b[1mModel: \"sequential_3\"\u001b[0m\n"
      ]
     },
     "metadata": {},
     "output_type": "display_data"
    },
    {
     "data": {
      "text/html": [
       "<pre style=\"white-space:pre;overflow-x:auto;line-height:normal;font-family:Menlo,'DejaVu Sans Mono',consolas,'Courier New',monospace\">┏━━━━━━━━━━━━━━━━━━━━━━━━━━━━━━━━━┳━━━━━━━━━━━━━━━━━━━━━━━━┳━━━━━━━━━━━━━━━┓\n",
       "┃<span style=\"font-weight: bold\"> Layer (type)                    </span>┃<span style=\"font-weight: bold\"> Output Shape           </span>┃<span style=\"font-weight: bold\">       Param # </span>┃\n",
       "┡━━━━━━━━━━━━━━━━━━━━━━━━━━━━━━━━━╇━━━━━━━━━━━━━━━━━━━━━━━━╇━━━━━━━━━━━━━━━┩\n",
       "│ embedding_3 (<span style=\"color: #0087ff; text-decoration-color: #0087ff\">Embedding</span>)         │ ?                      │   <span style=\"color: #00af00; text-decoration-color: #00af00\">0</span> (unbuilt) │\n",
       "└─────────────────────────────────┴────────────────────────┴───────────────┘\n",
       "</pre>\n"
      ],
      "text/plain": [
       "┏━━━━━━━━━━━━━━━━━━━━━━━━━━━━━━━━━┳━━━━━━━━━━━━━━━━━━━━━━━━┳━━━━━━━━━━━━━━━┓\n",
       "┃\u001b[1m \u001b[0m\u001b[1mLayer (type)                   \u001b[0m\u001b[1m \u001b[0m┃\u001b[1m \u001b[0m\u001b[1mOutput Shape          \u001b[0m\u001b[1m \u001b[0m┃\u001b[1m \u001b[0m\u001b[1m      Param #\u001b[0m\u001b[1m \u001b[0m┃\n",
       "┡━━━━━━━━━━━━━━━━━━━━━━━━━━━━━━━━━╇━━━━━━━━━━━━━━━━━━━━━━━━╇━━━━━━━━━━━━━━━┩\n",
       "│ embedding_3 (\u001b[38;5;33mEmbedding\u001b[0m)         │ ?                      │   \u001b[38;5;34m0\u001b[0m (unbuilt) │\n",
       "└─────────────────────────────────┴────────────────────────┴───────────────┘\n"
      ]
     },
     "metadata": {},
     "output_type": "display_data"
    },
    {
     "data": {
      "text/html": [
       "<pre style=\"white-space:pre;overflow-x:auto;line-height:normal;font-family:Menlo,'DejaVu Sans Mono',consolas,'Courier New',monospace\"><span style=\"font-weight: bold\"> Total params: </span><span style=\"color: #00af00; text-decoration-color: #00af00\">0</span> (0.00 B)\n",
       "</pre>\n"
      ],
      "text/plain": [
       "\u001b[1m Total params: \u001b[0m\u001b[38;5;34m0\u001b[0m (0.00 B)\n"
      ]
     },
     "metadata": {},
     "output_type": "display_data"
    },
    {
     "data": {
      "text/html": [
       "<pre style=\"white-space:pre;overflow-x:auto;line-height:normal;font-family:Menlo,'DejaVu Sans Mono',consolas,'Courier New',monospace\"><span style=\"font-weight: bold\"> Trainable params: </span><span style=\"color: #00af00; text-decoration-color: #00af00\">0</span> (0.00 B)\n",
       "</pre>\n"
      ],
      "text/plain": [
       "\u001b[1m Trainable params: \u001b[0m\u001b[38;5;34m0\u001b[0m (0.00 B)\n"
      ]
     },
     "metadata": {},
     "output_type": "display_data"
    },
    {
     "data": {
      "text/html": [
       "<pre style=\"white-space:pre;overflow-x:auto;line-height:normal;font-family:Menlo,'DejaVu Sans Mono',consolas,'Courier New',monospace\"><span style=\"font-weight: bold\"> Non-trainable params: </span><span style=\"color: #00af00; text-decoration-color: #00af00\">0</span> (0.00 B)\n",
       "</pre>\n"
      ],
      "text/plain": [
       "\u001b[1m Non-trainable params: \u001b[0m\u001b[38;5;34m0\u001b[0m (0.00 B)\n"
      ]
     },
     "metadata": {},
     "output_type": "display_data"
    }
   ],
   "source": [
    "model.summary()"
   ]
  },
  {
   "cell_type": "code",
   "execution_count": 43,
   "metadata": {},
   "outputs": [
    {
     "name": "stdout",
     "output_type": "stream",
     "text": [
      "\u001b[1m1/1\u001b[0m \u001b[32m━━━━━━━━━━━━━━━━━━━━\u001b[0m\u001b[37m\u001b[0m \u001b[1m0s\u001b[0m 319ms/step\n",
      "[[[-0.0192916  -0.02584057  0.0012944   0.02548872  0.04343775\n",
      "   -0.01467371 -0.01509815  0.04150181  0.00806768  0.01006949]\n",
      "  [-0.0192916  -0.02584057  0.0012944   0.02548872  0.04343775\n",
      "   -0.01467371 -0.01509815  0.04150181  0.00806768  0.01006949]\n",
      "  [-0.0192916  -0.02584057  0.0012944   0.02548872  0.04343775\n",
      "   -0.01467371 -0.01509815  0.04150181  0.00806768  0.01006949]\n",
      "  [-0.0192916  -0.02584057  0.0012944   0.02548872  0.04343775\n",
      "   -0.01467371 -0.01509815  0.04150181  0.00806768  0.01006949]\n",
      "  [-0.00653451 -0.02198329  0.02841568  0.00151297  0.00514454\n",
      "   -0.02908667  0.00734647 -0.0424409   0.03840566 -0.00691236]\n",
      "  [ 0.02507513  0.03951994  0.02895253 -0.0491178  -0.03010495\n",
      "   -0.04079839  0.03108973 -0.00728868  0.03448189 -0.03759664]\n",
      "  [-0.02834445  0.00568576  0.03493444  0.02239162 -0.04993315\n",
      "   -0.00975305 -0.04621705 -0.0167102   0.00612361 -0.02561221]\n",
      "  [-0.04133785 -0.04651445  0.01942749  0.03697919  0.03932399\n",
      "   -0.00274535  0.01418045  0.02355537  0.00114394 -0.00182922]]\n",
      "\n",
      " [[-0.0192916  -0.02584057  0.0012944   0.02548872  0.04343775\n",
      "   -0.01467371 -0.01509815  0.04150181  0.00806768  0.01006949]\n",
      "  [-0.0192916  -0.02584057  0.0012944   0.02548872  0.04343775\n",
      "   -0.01467371 -0.01509815  0.04150181  0.00806768  0.01006949]\n",
      "  [-0.0192916  -0.02584057  0.0012944   0.02548872  0.04343775\n",
      "   -0.01467371 -0.01509815  0.04150181  0.00806768  0.01006949]\n",
      "  [-0.0192916  -0.02584057  0.0012944   0.02548872  0.04343775\n",
      "   -0.01467371 -0.01509815  0.04150181  0.00806768  0.01006949]\n",
      "  [-0.00653451 -0.02198329  0.02841568  0.00151297  0.00514454\n",
      "   -0.02908667  0.00734647 -0.0424409   0.03840566 -0.00691236]\n",
      "  [ 0.02507513  0.03951994  0.02895253 -0.0491178  -0.03010495\n",
      "   -0.04079839  0.03108973 -0.00728868  0.03448189 -0.03759664]\n",
      "  [-0.02834445  0.00568576  0.03493444  0.02239162 -0.04993315\n",
      "   -0.00975305 -0.04621705 -0.0167102   0.00612361 -0.02561221]\n",
      "  [ 0.01008309  0.00702538 -0.02884139  0.04972852  0.02865813\n",
      "    0.03592999  0.035526   -0.03543148 -0.02229199  0.01916179]]\n",
      "\n",
      " [[-0.0192916  -0.02584057  0.0012944   0.02548872  0.04343775\n",
      "   -0.01467371 -0.01509815  0.04150181  0.00806768  0.01006949]\n",
      "  [-0.0192916  -0.02584057  0.0012944   0.02548872  0.04343775\n",
      "   -0.01467371 -0.01509815  0.04150181  0.00806768  0.01006949]\n",
      "  [-0.0192916  -0.02584057  0.0012944   0.02548872  0.04343775\n",
      "   -0.01467371 -0.01509815  0.04150181  0.00806768  0.01006949]\n",
      "  [-0.0192916  -0.02584057  0.0012944   0.02548872  0.04343775\n",
      "   -0.01467371 -0.01509815  0.04150181  0.00806768  0.01006949]\n",
      "  [-0.00653451 -0.02198329  0.02841568  0.00151297  0.00514454\n",
      "   -0.02908667  0.00734647 -0.0424409   0.03840566 -0.00691236]\n",
      "  [-0.03591301  0.03167427  0.01742368 -0.03113751  0.01900348\n",
      "    0.0284683   0.01853481 -0.03876691  0.00150929  0.00149659]\n",
      "  [-0.02834445  0.00568576  0.03493444  0.02239162 -0.04993315\n",
      "   -0.00975305 -0.04621705 -0.0167102   0.00612361 -0.02561221]\n",
      "  [-0.04648819  0.02521863 -0.01641531 -0.03900269  0.01262555\n",
      "   -0.04617822  0.01573647  0.01874169 -0.02056124  0.01404021]]\n",
      "\n",
      " [[-0.0192916  -0.02584057  0.0012944   0.02548872  0.04343775\n",
      "   -0.01467371 -0.01509815  0.04150181  0.00806768  0.01006949]\n",
      "  [-0.0192916  -0.02584057  0.0012944   0.02548872  0.04343775\n",
      "   -0.01467371 -0.01509815  0.04150181  0.00806768  0.01006949]\n",
      "  [-0.0192916  -0.02584057  0.0012944   0.02548872  0.04343775\n",
      "   -0.01467371 -0.01509815  0.04150181  0.00806768  0.01006949]\n",
      "  [ 0.03482367  0.0112946  -0.02367486 -0.02377541  0.01964109\n",
      "   -0.04503594  0.04899632  0.02064505 -0.03096409 -0.04881936]\n",
      "  [ 0.04062856 -0.03522717 -0.01975616 -0.03671172 -0.0294005\n",
      "    0.03674549 -0.00704825  0.04125949 -0.0437337   0.04799816]\n",
      "  [-0.01223923  0.02965646 -0.03934045  0.04284563  0.01409498\n",
      "    0.0367347  -0.02649684 -0.0073747   0.00764464  0.01597596]\n",
      "  [ 0.04242316 -0.01826553 -0.01249018  0.00246806 -0.03929842\n",
      "   -0.03070052  0.0371928  -0.02916204  0.00591428 -0.01492838]\n",
      "  [-0.04729914  0.02940485  0.00926274 -0.02484763  0.0178646\n",
      "   -0.0451063  -0.00671604  0.00770283  0.01929018  0.04703697]]\n",
      "\n",
      " [[-0.0192916  -0.02584057  0.0012944   0.02548872  0.04343775\n",
      "   -0.01467371 -0.01509815  0.04150181  0.00806768  0.01006949]\n",
      "  [-0.0192916  -0.02584057  0.0012944   0.02548872  0.04343775\n",
      "   -0.01467371 -0.01509815  0.04150181  0.00806768  0.01006949]\n",
      "  [-0.0192916  -0.02584057  0.0012944   0.02548872  0.04343775\n",
      "   -0.01467371 -0.01509815  0.04150181  0.00806768  0.01006949]\n",
      "  [ 0.03482367  0.0112946  -0.02367486 -0.02377541  0.01964109\n",
      "   -0.04503594  0.04899632  0.02064505 -0.03096409 -0.04881936]\n",
      "  [ 0.04062856 -0.03522717 -0.01975616 -0.03671172 -0.0294005\n",
      "    0.03674549 -0.00704825  0.04125949 -0.0437337   0.04799816]\n",
      "  [-0.01223923  0.02965646 -0.03934045  0.04284563  0.01409498\n",
      "    0.0367347  -0.02649684 -0.0073747   0.00764464  0.01597596]\n",
      "  [ 0.04242316 -0.01826553 -0.01249018  0.00246806 -0.03929842\n",
      "   -0.03070052  0.0371928  -0.02916204  0.00591428 -0.01492838]\n",
      "  [ 0.01985982 -0.00864252  0.01835542 -0.01349666 -0.03496488\n",
      "   -0.0192377  -0.02203246 -0.00122131 -0.0295321   0.00950311]]\n",
      "\n",
      " [[-0.0192916  -0.02584057  0.0012944   0.02548872  0.04343775\n",
      "   -0.01467371 -0.01509815  0.04150181  0.00806768  0.01006949]\n",
      "  [-0.0192916  -0.02584057  0.0012944   0.02548872  0.04343775\n",
      "   -0.01467371 -0.01509815  0.04150181  0.00806768  0.01006949]\n",
      "  [ 0.03931776  0.02162791 -0.03880013 -0.00995164 -0.01018654\n",
      "    0.01961628  0.01849307  0.0115984  -0.04597763 -0.0463357 ]\n",
      "  [-0.00653451 -0.02198329  0.02841568  0.00151297  0.00514454\n",
      "   -0.02908667  0.00734647 -0.0424409   0.03840566 -0.00691236]\n",
      "  [-0.04934814  0.04108917  0.03360811 -0.01520895  0.02604039\n",
      "    0.04944793  0.03692497 -0.03811305  0.00093677 -0.03209694]\n",
      "  [-0.02834445  0.00568576  0.03493444  0.02239162 -0.04993315\n",
      "   -0.00975305 -0.04621705 -0.0167102   0.00612361 -0.02561221]\n",
      "  [-0.00238044 -0.00175898 -0.03780998  0.00632017  0.02313984\n",
      "   -0.04677197  0.01584834 -0.04242461 -0.03837941  0.00454833]\n",
      "  [ 0.01985982 -0.00864252  0.01835542 -0.01349666 -0.03496488\n",
      "   -0.0192377  -0.02203246 -0.00122131 -0.0295321   0.00950311]]\n",
      "\n",
      " [[-0.0192916  -0.02584057  0.0012944   0.02548872  0.04343775\n",
      "   -0.01467371 -0.01509815  0.04150181  0.00806768  0.01006949]\n",
      "  [-0.0192916  -0.02584057  0.0012944   0.02548872  0.04343775\n",
      "   -0.01467371 -0.01509815  0.04150181  0.00806768  0.01006949]\n",
      "  [-0.0192916  -0.02584057  0.0012944   0.02548872  0.04343775\n",
      "   -0.01467371 -0.01509815  0.04150181  0.00806768  0.01006949]\n",
      "  [-0.0192916  -0.02584057  0.0012944   0.02548872  0.04343775\n",
      "   -0.01467371 -0.01509815  0.04150181  0.00806768  0.01006949]\n",
      "  [ 0.0438485  -0.01579561 -0.01222895 -0.03764189  0.02455394\n",
      "   -0.00895972  0.01182259  0.00284562  0.0258957   0.02691023]\n",
      "  [ 0.01335758 -0.04642955 -0.01029943  0.00870461  0.04748246\n",
      "   -0.00652073  0.02096098 -0.03828727  0.02982136 -0.0179531 ]\n",
      "  [ 0.00152284  0.0099557  -0.04990914  0.02088542 -0.0338396\n",
      "   -0.02820268 -0.04915359 -0.04510668  0.01630725  0.04280401]\n",
      "  [ 0.04242316 -0.01826553 -0.01249018  0.00246806 -0.03929842\n",
      "   -0.03070052  0.0371928  -0.02916204  0.00591428 -0.01492838]]]\n"
     ]
    }
   ],
   "source": [
    "print(model.predict(embedded_docs))"
   ]
  },
  {
   "cell_type": "code",
   "execution_count": 46,
   "metadata": {},
   "outputs": [
    {
     "data": {
      "text/plain": [
       "array([   0,    0,    0,    0, 7784, 6710, 9927, 6937])"
      ]
     },
     "execution_count": 46,
     "metadata": {},
     "output_type": "execute_result"
    }
   ],
   "source": [
    "embedded_docs[0]"
   ]
  },
  {
   "cell_type": "code",
   "execution_count": 45,
   "metadata": {},
   "outputs": [
    {
     "name": "stdout",
     "output_type": "stream",
     "text": [
      "\u001b[1m1/1\u001b[0m \u001b[32m━━━━━━━━━━━━━━━━━━━━\u001b[0m\u001b[37m\u001b[0m \u001b[1m0s\u001b[0m 45ms/step\n",
      "[[-0.0192916  -0.02584057  0.0012944   0.02548872  0.04343775 -0.01467371\n",
      "  -0.01509815  0.04150181  0.00806768  0.01006949]\n",
      " [-0.0192916  -0.02584057  0.0012944   0.02548872  0.04343775 -0.01467371\n",
      "  -0.01509815  0.04150181  0.00806768  0.01006949]\n",
      " [-0.0192916  -0.02584057  0.0012944   0.02548872  0.04343775 -0.01467371\n",
      "  -0.01509815  0.04150181  0.00806768  0.01006949]\n",
      " [-0.0192916  -0.02584057  0.0012944   0.02548872  0.04343775 -0.01467371\n",
      "  -0.01509815  0.04150181  0.00806768  0.01006949]\n",
      " [-0.00653451 -0.02198329  0.02841568  0.00151297  0.00514454 -0.02908667\n",
      "   0.00734647 -0.0424409   0.03840566 -0.00691236]\n",
      " [ 0.02507513  0.03951994  0.02895253 -0.0491178  -0.03010495 -0.04079839\n",
      "   0.03108973 -0.00728868  0.03448189 -0.03759664]\n",
      " [-0.02834445  0.00568576  0.03493444  0.02239162 -0.04993315 -0.00975305\n",
      "  -0.04621705 -0.0167102   0.00612361 -0.02561221]\n",
      " [-0.04133785 -0.04651445  0.01942749  0.03697919  0.03932399 -0.00274535\n",
      "   0.01418045  0.02355537  0.00114394 -0.00182922]]\n"
     ]
    }
   ],
   "source": [
    "\n",
    "# get the real value of the word \n",
    "print(model.predict(embedded_docs)[0])"
   ]
  },
  {
   "cell_type": "code",
   "execution_count": 67,
   "metadata": {},
   "outputs": [
    {
     "name": "stderr",
     "output_type": "stream",
     "text": [
      "c:\\Users\\simoa\\anaconda3\\envs\\learn\\lib\\site-packages\\keras\\src\\layers\\core\\embedding.py:90: UserWarning: Argument `input_length` is deprecated. Just remove it.\n",
      "  warnings.warn(\n"
     ]
    },
    {
     "name": "stdout",
     "output_type": "stream",
     "text": [
      "\u001b[1m1/1\u001b[0m \u001b[32m━━━━━━━━━━━━━━━━━━━━\u001b[0m\u001b[37m\u001b[0m \u001b[1m0s\u001b[0m 224ms/step\n",
      "Input sequences (padded):\n",
      " [[ 0  0  0  0  0  6  7  2  1]\n",
      " [ 0  3  1  8  4  9  5  2  1]\n",
      " [10 11 12  4 13 14  5  3  1]]\n",
      "\n",
      "Embeddings:\n",
      " [[[-0.00801589  0.00658339  0.00594815 -0.01586102 -0.04525781\n",
      "    0.04167149  0.04940948  0.01838223 -0.02122566 -0.02935225]\n",
      "  [-0.00801589  0.00658339  0.00594815 -0.01586102 -0.04525781\n",
      "    0.04167149  0.04940948  0.01838223 -0.02122566 -0.02935225]\n",
      "  [-0.00801589  0.00658339  0.00594815 -0.01586102 -0.04525781\n",
      "    0.04167149  0.04940948  0.01838223 -0.02122566 -0.02935225]\n",
      "  [-0.00801589  0.00658339  0.00594815 -0.01586102 -0.04525781\n",
      "    0.04167149  0.04940948  0.01838223 -0.02122566 -0.02935225]\n",
      "  [-0.00801589  0.00658339  0.00594815 -0.01586102 -0.04525781\n",
      "    0.04167149  0.04940948  0.01838223 -0.02122566 -0.02935225]\n",
      "  [-0.00202563  0.03894934 -0.03868549 -0.01935943  0.02033139\n",
      "   -0.03912139  0.04078776 -0.02551265 -0.03604062  0.01304331]\n",
      "  [-0.02654338  0.03088145  0.01360675  0.01370484  0.01654789\n",
      "   -0.03952383  0.00244981 -0.04225718 -0.03541919 -0.02388539]\n",
      "  [-0.03242423 -0.02037715 -0.03588281 -0.00172218  0.04284525\n",
      "    0.03167235 -0.01326812 -0.00035367 -0.01693779  0.03900998]\n",
      "  [-0.03978192 -0.00076889  0.02063772 -0.03706291  0.03680648\n",
      "    0.00164689  0.02100814 -0.04532031 -0.00251077 -0.01264454]]\n",
      "\n",
      " [[-0.00801589  0.00658339  0.00594815 -0.01586102 -0.04525781\n",
      "    0.04167149  0.04940948  0.01838223 -0.02122566 -0.02935225]\n",
      "  [ 0.02365107 -0.00813406 -0.00520037  0.04650619  0.03355682\n",
      "   -0.03172334 -0.01392962 -0.01057193  0.02866253  0.04863275]\n",
      "  [-0.03978192 -0.00076889  0.02063772 -0.03706291  0.03680648\n",
      "    0.00164689  0.02100814 -0.04532031 -0.00251077 -0.01264454]\n",
      "  [-0.03503777  0.03605464 -0.03294376  0.03010103 -0.01022962\n",
      "    0.03500694  0.01357747 -0.03353816  0.00697465 -0.03855436]\n",
      "  [-0.00285987 -0.02915561 -0.00109006 -0.00394857 -0.0204034\n",
      "    0.02446968 -0.01632212  0.00622852  0.00797304 -0.04861632]\n",
      "  [-0.04337129  0.02705843  0.04246515 -0.00953757 -0.01158993\n",
      "    0.02241485 -0.02075018  0.04552437  0.00198141 -0.03403784]\n",
      "  [-0.04553734 -0.0497723   0.00830361  0.03899655  0.04383639\n",
      "    0.03093647 -0.03877264  0.02462138 -0.02804323 -0.02119079]\n",
      "  [-0.03242423 -0.02037715 -0.03588281 -0.00172218  0.04284525\n",
      "    0.03167235 -0.01326812 -0.00035367 -0.01693779  0.03900998]\n",
      "  [-0.03978192 -0.00076889  0.02063772 -0.03706291  0.03680648\n",
      "    0.00164689  0.02100814 -0.04532031 -0.00251077 -0.01264454]]\n",
      "\n",
      " [[-0.04229471  0.04565637  0.04393549 -0.0149774   0.00198265\n",
      "    0.01697687  0.02248052  0.03832804 -0.02779675 -0.04651842]\n",
      "  [ 0.00326211 -0.04083755  0.03358842  0.03232309 -0.01225532\n",
      "   -0.03494418 -0.02407991 -0.03376328  0.03698322 -0.04754034]\n",
      "  [-0.01495669  0.03873011  0.03812105 -0.03420212  0.00802178\n",
      "   -0.01329631  0.04534889 -0.01735044 -0.00863638 -0.00809755]\n",
      "  [-0.00285987 -0.02915561 -0.00109006 -0.00394857 -0.0204034\n",
      "    0.02446968 -0.01632212  0.00622852  0.00797304 -0.04861632]\n",
      "  [ 0.03785734 -0.00211129 -0.03026141 -0.00418966 -0.03652287\n",
      "   -0.04329279 -0.02031753  0.00318927 -0.01406897 -0.02452224]\n",
      "  [ 0.00702556 -0.04719847 -0.0408854  -0.00400453  0.0448682\n",
      "    0.03644473  0.04067076 -0.00519525 -0.02052449  0.03205582]\n",
      "  [-0.04553734 -0.0497723   0.00830361  0.03899655  0.04383639\n",
      "    0.03093647 -0.03877264  0.02462138 -0.02804323 -0.02119079]\n",
      "  [ 0.02365107 -0.00813406 -0.00520037  0.04650619  0.03355682\n",
      "   -0.03172334 -0.01392962 -0.01057193  0.02866253  0.04863275]\n",
      "  [-0.03978192 -0.00076889  0.02063772 -0.03706291  0.03680648\n",
      "    0.00164689  0.02100814 -0.04532031 -0.00251077 -0.01264454]]]\n"
     ]
    }
   ],
   "source": [
    "import numpy as np\n",
    "from tensorflow.keras.preprocessing.text import Tokenizer\n",
    "from tensorflow.keras.preprocessing.sequence import pad_sequences\n",
    "from tensorflow.keras.models import Sequential\n",
    "from tensorflow.keras.layers import Embedding\n",
    "import matplotlib.pyplot as plt\n",
    "from sklearn.decomposition import PCA\n",
    "\n",
    "# Sample sentences\n",
    "sentences = [\n",
    "    \"I love machine learning\",\n",
    "    \"Deep learning is a subset of machine learning\",\n",
    "    \"Neural networks are a key part of deep learning\"\n",
    "]\n",
    "\n",
    "# Initialize the tokenizer and fit on the sentences\n",
    "tokenizer = Tokenizer()\n",
    "tokenizer.fit_on_texts(sentences)\n",
    "\n",
    "# Convert sentences to sequences\n",
    "sequences = tokenizer.texts_to_sequences(sentences)\n",
    "\n",
    "# Pad sequences to ensure equal length\n",
    "max_length = max(len(seq) for seq in sequences)\n",
    "padded_sequences = pad_sequences(sequences, maxlen=max_length, padding='pre')\n",
    "\n",
    "# Define the vocabulary size and embedding dimensions\n",
    "voc_size = len(tokenizer.word_index) + 1  # +1 for padding token\n",
    "embedding_dim = 10\n",
    "\n",
    "# Initialize the Sequential model\n",
    "model = Sequential()\n",
    "\n",
    "# Add the Embedding layer to the model\n",
    "model.add(Embedding(input_dim=voc_size, output_dim=embedding_dim, input_length=max_length))\n",
    "\n",
    "# Compile the model (required to use model.predict, even if we don't train it)\n",
    "model.compile(optimizer='adam', loss='mse')\n",
    "\n",
    "# Get the embeddings for the input sequences\n",
    "embeddings = model.predict(padded_sequences)\n",
    "\n",
    "# Print the input sequences and their corresponding embeddings\n",
    "print(\"Input sequences (padded):\\n\", padded_sequences)\n",
    "print(\"\\nEmbeddings:\\n\", embeddings)\n"
   ]
  },
  {
   "cell_type": "code",
   "execution_count": 68,
   "metadata": {},
   "outputs": [
    {
     "name": "stdout",
     "output_type": "stream",
     "text": [
      "9\n"
     ]
    }
   ],
   "source": [
    "# get the real value of the word \n",
    "print(len(embeddings[0]))"
   ]
  },
  {
   "cell_type": "code",
   "execution_count": 56,
   "metadata": {},
   "outputs": [
    {
     "data": {
      "text/plain": [
       "array([[ 0,  0,  0,  0,  0,  0,  0,  0,  0,  0,  0,  0,  0,  0,  0,  6,\n",
       "         7,  2,  1],\n",
       "       [ 0,  0,  0,  0,  0,  0,  0,  0,  0,  0,  0,  3,  1,  8,  4,  9,\n",
       "         5,  2,  1],\n",
       "       [ 0,  0,  0,  0,  0,  0,  0,  0,  0,  0, 10, 11, 12,  4, 13, 14,\n",
       "         5,  3,  1]])"
      ]
     },
     "execution_count": 56,
     "metadata": {},
     "output_type": "execute_result"
    }
   ],
   "source": [
    "padded_sequences"
   ]
  },
  {
   "cell_type": "code",
   "execution_count": 69,
   "metadata": {},
   "outputs": [
    {
     "data": {
      "image/png": "[encoded data removed]",
      "text/plain": [
       "<Figure size 1000x600 with 1 Axes>"
      ]
     },
     "metadata": {},
     "output_type": "display_data"
    }
   ],
   "source": [
    "\n",
    "# Reshape the embeddings to a 2D array (num_words, embedding_dim)\n",
    "embeddings_reshaped = embeddings.reshape(-1, embedding_dim)\n",
    "\n",
    "# Perform PCA to reduce to 2 dimensions\n",
    "pca = PCA(n_components=2)\n",
    "embeddings_2d = pca.fit_transform(embeddings_reshaped)\n",
    "\n",
    "# Plot the embeddings\n",
    "plt.figure(figsize=(10, 6))\n",
    "for i, word in enumerate(tokenizer.word_index.keys()):\n",
    "    if i < embeddings_2d.shape[0]:\n",
    "        plt.scatter(embeddings_2d[i, 0], embeddings_2d[i, 1])\n",
    "        plt.text(embeddings_2d[i, 0] + 0.01, embeddings_2d[i, 1] + 0.01, word, fontsize=9)\n",
    "plt.title(\"Word Embeddings Visualized with PCA\")\n",
    "plt.xlabel(\"PCA Component 1\")\n",
    "plt.ylabel(\"PCA Component 2\")\n",
    "plt.show()"
   ]
  }
 ],
 "metadata": {
  "kernelspec": {
   "display_name": "learn",
   "language": "python",
   "name": "python3"
  },
  "language_info": {
   "codemirror_mode": {
    "name": "ipython",
    "version": 3
   },
   "file_extension": ".py",
   "mimetype": "text/x-python",
   "name": "python",
   "nbconvert_exporter": "python",
   "pygments_lexer": "ipython3",
   "version": "3.10.14"
  }
 },
 "nbformat": 4,
 "nbformat_minor": 2
}
